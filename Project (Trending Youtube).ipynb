{
 "cells": [
  {
   "cell_type": "markdown",
   "metadata": {},
   "source": [
    "## Packages\n",
    "* ### Here is where packages are imported to:...\n",
    " - read our data from the CSV file\n",
    " - manipulate it for conversion into a suitable format\n",
    " - create visualizations for the data"
   ]
  },
  {
   "cell_type": "code",
   "execution_count": 1,
   "metadata": {},
   "outputs": [],
   "source": [
    "import pandas as pd\n",
    "import numpy as np\n",
    "import seaborn as sns\n",
    "import matplotlib.pyplot as plt\n",
    "%matplotlib inline"
   ]
  },
  {
   "cell_type": "markdown",
   "metadata": {},
   "source": [
    "### Data description\n",
    "- #### We read our dataset into a pandas dataframe\n",
    " - we use .head() to show the first five records."
   ]
  },
  {
   "cell_type": "code",
   "execution_count": 2,
   "metadata": {},
   "outputs": [
    {
     "name": "stdout",
     "output_type": "stream",
     "text": [
      "      video_id trending_date  \\\n",
      "0  2kyS6SvSYSE      17.14.11   \n",
      "1  1ZAPwfrtAFY      17.14.11   \n",
      "2  5qpjK5DgCt4      17.14.11   \n",
      "3  puqaWrEC7tY      17.14.11   \n",
      "4  d380meD0W0M      17.14.11   \n",
      "\n",
      "                                               title          channel_title  \\\n",
      "0                 WE WANT TO TALK ABOUT OUR MARRIAGE           CaseyNeistat   \n",
      "1  The Trump Presidency: Last Week Tonight with J...        LastWeekTonight   \n",
      "2  Racist Superman | Rudy Mancuso, King Bach & Le...           Rudy Mancuso   \n",
      "3                   Nickelback Lyrics: Real or Fake?  Good Mythical Morning   \n",
      "4                           I Dare You: GOING BALD!?               nigahiga   \n",
      "\n",
      "   category_id              publish_time  \\\n",
      "0           22  2017-11-13T17:13:01.000Z   \n",
      "1           24  2017-11-13T07:30:00.000Z   \n",
      "2           23  2017-11-12T19:05:24.000Z   \n",
      "3           24  2017-11-13T11:00:04.000Z   \n",
      "4           24  2017-11-12T18:01:41.000Z   \n",
      "\n",
      "                                                tags    views   likes  \\\n",
      "0                                    SHANtell martin   748374   57527   \n",
      "1  last week tonight trump presidency|\"last week ...  2418783   97185   \n",
      "2  racist superman|\"rudy\"|\"mancuso\"|\"king\"|\"bach\"...  3191434  146033   \n",
      "3  rhett and link|\"gmm\"|\"good mythical morning\"|\"...   343168   10172   \n",
      "4  ryan|\"higa\"|\"higatv\"|\"nigahiga\"|\"i dare you\"|\"...  2095731  132235   \n",
      "\n",
      "   dislikes  comment_count                                  thumbnail_link  \\\n",
      "0      2966          15954  https://i.ytimg.com/vi/2kyS6SvSYSE/default.jpg   \n",
      "1      6146          12703  https://i.ytimg.com/vi/1ZAPwfrtAFY/default.jpg   \n",
      "2      5339           8181  https://i.ytimg.com/vi/5qpjK5DgCt4/default.jpg   \n",
      "3       666           2146  https://i.ytimg.com/vi/puqaWrEC7tY/default.jpg   \n",
      "4      1989          17518  https://i.ytimg.com/vi/d380meD0W0M/default.jpg   \n",
      "\n",
      "   comments_disabled  ratings_disabled  video_error_or_removed  \\\n",
      "0              False             False                   False   \n",
      "1              False             False                   False   \n",
      "2              False             False                   False   \n",
      "3              False             False                   False   \n",
      "4              False             False                   False   \n",
      "\n",
      "                                         description  \n",
      "0  SHANTELL'S CHANNEL - https://www.youtube.com/s...  \n",
      "1  One year after the presidential election, John...  \n",
      "2  WATCH MY PREVIOUS VIDEO ▶ \\n\\nSUBSCRIBE ► http...  \n",
      "3  Today we find out if Link is a Nickelback amat...  \n",
      "4  I know it's been a while since we did this sho...  \n"
     ]
    }
   ],
   "source": [
    "ytDF = pd.read_csv('USvideos.csv')\n",
    "print(ytDF.head())"
   ]
  },
  {
   "cell_type": "code",
   "execution_count": 3,
   "metadata": {},
   "outputs": [
    {
     "data": {
      "text/plain": [
       "(40949, 16)"
      ]
     },
     "execution_count": 3,
     "metadata": {},
     "output_type": "execute_result"
    }
   ],
   "source": [
    "ytDF.shape"
   ]
  },
  {
   "cell_type": "code",
   "execution_count": 4,
   "metadata": {},
   "outputs": [],
   "source": [
    "ytDF.drop('video_id', axis=1, inplace=True)\n",
    "ytDF.drop('title', axis=1, inplace=True)\n",
    "ytDF.drop('publish_time', axis=1, inplace=True)\n",
    "ytDF.drop('tags', axis=1, inplace=True)\n",
    "ytDF.drop('thumbnail_link', axis=1, inplace=True)\n",
    "ytDF.drop('video_error_or_removed', axis=1, inplace=True)\n",
    "ytDF.drop('description', axis=1, inplace=True)"
   ]
  },
  {
   "cell_type": "code",
   "execution_count": 5,
   "metadata": {},
   "outputs": [
    {
     "data": {
      "text/html": [
       "<div>\n",
       "<style scoped>\n",
       "    .dataframe tbody tr th:only-of-type {\n",
       "        vertical-align: middle;\n",
       "    }\n",
       "\n",
       "    .dataframe tbody tr th {\n",
       "        vertical-align: top;\n",
       "    }\n",
       "\n",
       "    .dataframe thead th {\n",
       "        text-align: right;\n",
       "    }\n",
       "</style>\n",
       "<table border=\"1\" class=\"dataframe\">\n",
       "  <thead>\n",
       "    <tr style=\"text-align: right;\">\n",
       "      <th></th>\n",
       "      <th>trending_date</th>\n",
       "      <th>channel_title</th>\n",
       "      <th>category_id</th>\n",
       "      <th>views</th>\n",
       "      <th>likes</th>\n",
       "      <th>dislikes</th>\n",
       "      <th>comment_count</th>\n",
       "      <th>comments_disabled</th>\n",
       "      <th>ratings_disabled</th>\n",
       "    </tr>\n",
       "  </thead>\n",
       "  <tbody>\n",
       "    <tr>\n",
       "      <th>0</th>\n",
       "      <td>17.14.11</td>\n",
       "      <td>CaseyNeistat</td>\n",
       "      <td>22</td>\n",
       "      <td>748374</td>\n",
       "      <td>57527</td>\n",
       "      <td>2966</td>\n",
       "      <td>15954</td>\n",
       "      <td>False</td>\n",
       "      <td>False</td>\n",
       "    </tr>\n",
       "    <tr>\n",
       "      <th>1</th>\n",
       "      <td>17.14.11</td>\n",
       "      <td>LastWeekTonight</td>\n",
       "      <td>24</td>\n",
       "      <td>2418783</td>\n",
       "      <td>97185</td>\n",
       "      <td>6146</td>\n",
       "      <td>12703</td>\n",
       "      <td>False</td>\n",
       "      <td>False</td>\n",
       "    </tr>\n",
       "    <tr>\n",
       "      <th>2</th>\n",
       "      <td>17.14.11</td>\n",
       "      <td>Rudy Mancuso</td>\n",
       "      <td>23</td>\n",
       "      <td>3191434</td>\n",
       "      <td>146033</td>\n",
       "      <td>5339</td>\n",
       "      <td>8181</td>\n",
       "      <td>False</td>\n",
       "      <td>False</td>\n",
       "    </tr>\n",
       "    <tr>\n",
       "      <th>3</th>\n",
       "      <td>17.14.11</td>\n",
       "      <td>Good Mythical Morning</td>\n",
       "      <td>24</td>\n",
       "      <td>343168</td>\n",
       "      <td>10172</td>\n",
       "      <td>666</td>\n",
       "      <td>2146</td>\n",
       "      <td>False</td>\n",
       "      <td>False</td>\n",
       "    </tr>\n",
       "    <tr>\n",
       "      <th>4</th>\n",
       "      <td>17.14.11</td>\n",
       "      <td>nigahiga</td>\n",
       "      <td>24</td>\n",
       "      <td>2095731</td>\n",
       "      <td>132235</td>\n",
       "      <td>1989</td>\n",
       "      <td>17518</td>\n",
       "      <td>False</td>\n",
       "      <td>False</td>\n",
       "    </tr>\n",
       "  </tbody>\n",
       "</table>\n",
       "</div>"
      ],
      "text/plain": [
       "  trending_date          channel_title  category_id    views   likes  \\\n",
       "0      17.14.11           CaseyNeistat           22   748374   57527   \n",
       "1      17.14.11        LastWeekTonight           24  2418783   97185   \n",
       "2      17.14.11           Rudy Mancuso           23  3191434  146033   \n",
       "3      17.14.11  Good Mythical Morning           24   343168   10172   \n",
       "4      17.14.11               nigahiga           24  2095731  132235   \n",
       "\n",
       "   dislikes  comment_count  comments_disabled  ratings_disabled  \n",
       "0      2966          15954              False             False  \n",
       "1      6146          12703              False             False  \n",
       "2      5339           8181              False             False  \n",
       "3       666           2146              False             False  \n",
       "4      1989          17518              False             False  "
      ]
     },
     "execution_count": 5,
     "metadata": {},
     "output_type": "execute_result"
    }
   ],
   "source": [
    "ytDF.head()"
   ]
  },
  {
   "cell_type": "code",
   "execution_count": 6,
   "metadata": {},
   "outputs": [
    {
     "name": "stdout",
     "output_type": "stream",
     "text": [
      "                   category_id     views     likes  dislikes  comment_count  \\\n",
      "category_id           1.000000 -0.168231 -0.173921 -0.033547      -0.076307   \n",
      "views                -0.168231  1.000000  0.849177  0.472213       0.617621   \n",
      "likes                -0.173921  0.849177  1.000000  0.447186       0.803057   \n",
      "dislikes             -0.033547  0.472213  0.447186  1.000000       0.700184   \n",
      "comment_count        -0.076307  0.617621  0.803057  0.700184       1.000000   \n",
      "comments_disabled     0.048949  0.002677 -0.028918 -0.004431      -0.028277   \n",
      "ratings_disabled     -0.013506  0.015355 -0.020888 -0.008230      -0.013819   \n",
      "\n",
      "                   comments_disabled  ratings_disabled  \n",
      "category_id                 0.048949         -0.013506  \n",
      "views                       0.002677          0.015355  \n",
      "likes                      -0.028918         -0.020888  \n",
      "dislikes                   -0.004431         -0.008230  \n",
      "comment_count              -0.028277         -0.013819  \n",
      "comments_disabled           1.000000          0.319230  \n",
      "ratings_disabled            0.319230          1.000000  \n"
     ]
    },
    {
     "data": {
      "text/plain": [
       "<matplotlib.axes._subplots.AxesSubplot at 0x246660b4d68>"
      ]
     },
     "execution_count": 6,
     "metadata": {},
     "output_type": "execute_result"
    },
    {
     "data": {
      "image/png": "[encoded data removed]",
      "text/plain": [
       "<Figure size 432x288 with 2 Axes>"
      ]
     },
     "metadata": {
      "needs_background": "light"
     },
     "output_type": "display_data"
    }
   ],
   "source": [
    "corr = ytDF.corr()\n",
    "print(corr)\n",
    "sns.heatmap(corr,\n",
    "           xticklabels=corr.columns,\n",
    "           yticklabels=corr.columns)"
   ]
  },
  {
   "cell_type": "code",
   "execution_count": 7,
   "metadata": {},
   "outputs": [
    {
     "name": "stdout",
     "output_type": "stream",
     "text": [
      "                               channel_title  count\n",
      "0                                       ESPN    203\n",
      "1     The Tonight Show Starring Jimmy Fallon    197\n",
      "2                                    Netflix    193\n",
      "3                                        Vox    193\n",
      "4                               TheEllenShow    193\n",
      "...                                      ...    ...\n",
      "2202                            Skelly Robot      1\n",
      "2203                           King Princess      1\n",
      "2204                           JarJar Abrams      1\n",
      "2205                           Dean Anderson      1\n",
      "2206                                   Grist      1\n",
      "\n",
      "[2207 rows x 2 columns]\n"
     ]
    }
   ],
   "source": [
    "ytCH = pd.DataFrame(ytDF.channel_title)\n",
    "#threshold = 100\n",
    "#vc = ytCH.stack().value_counts()\n",
    "#to_remove = vc[vc <= threshold].index\n",
    "#ytCH.replace(to_remove, np.nan, inplace=True)\n",
    "sr = pd.Series(ytCH.channel_title)\n",
    "#sr.value_counts()\n",
    "ryCH = pd.DataFrame(sr.value_counts().reset_index())\n",
    "ryCH.columns = ['channel_title', 'count']\n",
    "print(ryCH)"
   ]
  },
  {
   "cell_type": "code",
   "execution_count": 8,
   "metadata": {},
   "outputs": [
    {
     "data": {
      "text/html": [
       "<div>\n",
       "<style scoped>\n",
       "    .dataframe tbody tr th:only-of-type {\n",
       "        vertical-align: middle;\n",
       "    }\n",
       "\n",
       "    .dataframe tbody tr th {\n",
       "        vertical-align: top;\n",
       "    }\n",
       "\n",
       "    .dataframe thead th {\n",
       "        text-align: right;\n",
       "    }\n",
       "</style>\n",
       "<table border=\"1\" class=\"dataframe\">\n",
       "  <thead>\n",
       "    <tr style=\"text-align: right;\">\n",
       "      <th></th>\n",
       "      <th>views</th>\n",
       "    </tr>\n",
       "    <tr>\n",
       "      <th>channel_title</th>\n",
       "      <th></th>\n",
       "    </tr>\n",
       "  </thead>\n",
       "  <tbody>\n",
       "    <tr>\n",
       "      <th>ChildishGambinoVEVO</th>\n",
       "      <td>3758488765</td>\n",
       "    </tr>\n",
       "    <tr>\n",
       "      <th>ibighit</th>\n",
       "      <td>2235906679</td>\n",
       "    </tr>\n",
       "    <tr>\n",
       "      <th>Dude Perfect</th>\n",
       "      <td>1870085178</td>\n",
       "    </tr>\n",
       "    <tr>\n",
       "      <th>Marvel Entertainment</th>\n",
       "      <td>1808998971</td>\n",
       "    </tr>\n",
       "    <tr>\n",
       "      <th>ArianaGrandeVevo</th>\n",
       "      <td>1576959172</td>\n",
       "    </tr>\n",
       "    <tr>\n",
       "      <th>...</th>\n",
       "      <td>...</td>\n",
       "    </tr>\n",
       "    <tr>\n",
       "      <th>CHauserable</th>\n",
       "      <td>1807</td>\n",
       "    </tr>\n",
       "    <tr>\n",
       "      <th>Total Combat</th>\n",
       "      <td>1722</td>\n",
       "    </tr>\n",
       "    <tr>\n",
       "      <th>OjO Commuter Scooter by OjO Electric</th>\n",
       "      <td>1706</td>\n",
       "    </tr>\n",
       "    <tr>\n",
       "      <th>GoDucksdotcom</th>\n",
       "      <td>1391</td>\n",
       "    </tr>\n",
       "    <tr>\n",
       "      <th>90s Commercials</th>\n",
       "      <td>773</td>\n",
       "    </tr>\n",
       "  </tbody>\n",
       "</table>\n",
       "<p>2207 rows × 1 columns</p>\n",
       "</div>"
      ],
      "text/plain": [
       "                                           views\n",
       "channel_title                                   \n",
       "ChildishGambinoVEVO                   3758488765\n",
       "ibighit                               2235906679\n",
       "Dude Perfect                          1870085178\n",
       "Marvel Entertainment                  1808998971\n",
       "ArianaGrandeVevo                      1576959172\n",
       "...                                          ...\n",
       "CHauserable                                 1807\n",
       "Total Combat                                1722\n",
       "OjO Commuter Scooter by OjO Electric        1706\n",
       "GoDucksdotcom                               1391\n",
       "90s Commercials                              773\n",
       "\n",
       "[2207 rows x 1 columns]"
      ]
     },
     "execution_count": 8,
     "metadata": {},
     "output_type": "execute_result"
    }
   ],
   "source": [
    "viewCH = pd.DataFrame({\n",
    "    \"channel_title\": ytDF.channel_title, \n",
    "    \"views\": ytDF.views})\n",
    "rvCH = pd.pivot_table(viewCH, index='channel_title',aggfunc=sum)\n",
    "rvCH = pd.DataFrame(rvCH)\n",
    "rvCH.sort_values(by=['views'], ascending=False)"
   ]
  },
  {
   "cell_type": "code",
   "execution_count": 9,
   "metadata": {},
   "outputs": [
    {
     "data": {
      "text/html": [
       "<div>\n",
       "<style scoped>\n",
       "    .dataframe tbody tr th:only-of-type {\n",
       "        vertical-align: middle;\n",
       "    }\n",
       "\n",
       "    .dataframe tbody tr th {\n",
       "        vertical-align: top;\n",
       "    }\n",
       "\n",
       "    .dataframe thead th {\n",
       "        text-align: right;\n",
       "    }\n",
       "</style>\n",
       "<table border=\"1\" class=\"dataframe\">\n",
       "  <thead>\n",
       "    <tr style=\"text-align: right;\">\n",
       "      <th></th>\n",
       "      <th>channel_title</th>\n",
       "      <th>count</th>\n",
       "      <th>views</th>\n",
       "    </tr>\n",
       "  </thead>\n",
       "  <tbody>\n",
       "    <tr>\n",
       "      <th>0</th>\n",
       "      <td>ESPN</td>\n",
       "      <td>203</td>\n",
       "      <td>105654218</td>\n",
       "    </tr>\n",
       "    <tr>\n",
       "      <th>1</th>\n",
       "      <td>The Tonight Show Starring Jimmy Fallon</td>\n",
       "      <td>197</td>\n",
       "      <td>271426383</td>\n",
       "    </tr>\n",
       "    <tr>\n",
       "      <th>2</th>\n",
       "      <td>Netflix</td>\n",
       "      <td>193</td>\n",
       "      <td>185818315</td>\n",
       "    </tr>\n",
       "    <tr>\n",
       "      <th>3</th>\n",
       "      <td>Vox</td>\n",
       "      <td>193</td>\n",
       "      <td>122633963</td>\n",
       "    </tr>\n",
       "    <tr>\n",
       "      <th>4</th>\n",
       "      <td>TheEllenShow</td>\n",
       "      <td>193</td>\n",
       "      <td>253841999</td>\n",
       "    </tr>\n",
       "  </tbody>\n",
       "</table>\n",
       "</div>"
      ],
      "text/plain": [
       "                            channel_title  count      views\n",
       "0                                    ESPN    203  105654218\n",
       "1  The Tonight Show Starring Jimmy Fallon    197  271426383\n",
       "2                                 Netflix    193  185818315\n",
       "3                                     Vox    193  122633963\n",
       "4                            TheEllenShow    193  253841999"
      ]
     },
     "execution_count": 9,
     "metadata": {},
     "output_type": "execute_result"
    }
   ],
   "source": [
    "merged = pd.merge(ryCH,rvCH, on='channel_title')\n",
    "merged.head()"
   ]
  },
  {
   "cell_type": "code",
   "execution_count": 10,
   "metadata": {},
   "outputs": [
    {
     "data": {
      "text/html": [
       "<div>\n",
       "<style scoped>\n",
       "    .dataframe tbody tr th:only-of-type {\n",
       "        vertical-align: middle;\n",
       "    }\n",
       "\n",
       "    .dataframe tbody tr th {\n",
       "        vertical-align: top;\n",
       "    }\n",
       "\n",
       "    .dataframe thead th {\n",
       "        text-align: right;\n",
       "    }\n",
       "</style>\n",
       "<table border=\"1\" class=\"dataframe\">\n",
       "  <thead>\n",
       "    <tr style=\"text-align: right;\">\n",
       "      <th></th>\n",
       "      <th>likes</th>\n",
       "    </tr>\n",
       "    <tr>\n",
       "      <th>channel_title</th>\n",
       "      <th></th>\n",
       "    </tr>\n",
       "  </thead>\n",
       "  <tbody>\n",
       "    <tr>\n",
       "      <th>ibighit</th>\n",
       "      <td>199247121</td>\n",
       "    </tr>\n",
       "    <tr>\n",
       "      <th>ChildishGambinoVEVO</th>\n",
       "      <td>96700818</td>\n",
       "    </tr>\n",
       "    <tr>\n",
       "      <th>Dude Perfect</th>\n",
       "      <td>60275557</td>\n",
       "    </tr>\n",
       "    <tr>\n",
       "      <th>Marvel Entertainment</th>\n",
       "      <td>55873344</td>\n",
       "    </tr>\n",
       "    <tr>\n",
       "      <th>ArianaGrandeVevo</th>\n",
       "      <td>52170970</td>\n",
       "    </tr>\n",
       "    <tr>\n",
       "      <th>...</th>\n",
       "      <td>...</td>\n",
       "    </tr>\n",
       "    <tr>\n",
       "      <th>Coachella</th>\n",
       "      <td>0</td>\n",
       "    </tr>\n",
       "    <tr>\n",
       "      <th>chris lee</th>\n",
       "      <td>0</td>\n",
       "    </tr>\n",
       "    <tr>\n",
       "      <th>cheeseandjamsandwich</th>\n",
       "      <td>0</td>\n",
       "    </tr>\n",
       "    <tr>\n",
       "      <th>Snapchat</th>\n",
       "      <td>0</td>\n",
       "    </tr>\n",
       "    <tr>\n",
       "      <th>Kylie Jenner</th>\n",
       "      <td>0</td>\n",
       "    </tr>\n",
       "  </tbody>\n",
       "</table>\n",
       "<p>2207 rows × 1 columns</p>\n",
       "</div>"
      ],
      "text/plain": [
       "                          likes\n",
       "channel_title                  \n",
       "ibighit               199247121\n",
       "ChildishGambinoVEVO    96700818\n",
       "Dude Perfect           60275557\n",
       "Marvel Entertainment   55873344\n",
       "ArianaGrandeVevo       52170970\n",
       "...                         ...\n",
       "Coachella                     0\n",
       "chris lee                     0\n",
       "cheeseandjamsandwich          0\n",
       "Snapchat                      0\n",
       "Kylie Jenner                  0\n",
       "\n",
       "[2207 rows x 1 columns]"
      ]
     },
     "execution_count": 10,
     "metadata": {},
     "output_type": "execute_result"
    }
   ],
   "source": [
    "likeCH = pd.DataFrame({\n",
    "    \"channel_title\": ytDF.channel_title, \n",
    "    \"likes\": ytDF.likes})\n",
    "rlCH = pd.pivot_table(likeCH, index='channel_title',aggfunc=sum)\n",
    "rlCH = pd.DataFrame(rlCH)\n",
    "rlCH.sort_values(by=['likes'], ascending=False)"
   ]
  },
  {
   "cell_type": "code",
   "execution_count": 11,
   "metadata": {},
   "outputs": [
    {
     "data": {
      "text/html": [
       "<div>\n",
       "<style scoped>\n",
       "    .dataframe tbody tr th:only-of-type {\n",
       "        vertical-align: middle;\n",
       "    }\n",
       "\n",
       "    .dataframe tbody tr th {\n",
       "        vertical-align: top;\n",
       "    }\n",
       "\n",
       "    .dataframe thead th {\n",
       "        text-align: right;\n",
       "    }\n",
       "</style>\n",
       "<table border=\"1\" class=\"dataframe\">\n",
       "  <thead>\n",
       "    <tr style=\"text-align: right;\">\n",
       "      <th></th>\n",
       "      <th>channel_title</th>\n",
       "      <th>count</th>\n",
       "      <th>views</th>\n",
       "      <th>likes</th>\n",
       "    </tr>\n",
       "  </thead>\n",
       "  <tbody>\n",
       "    <tr>\n",
       "      <th>0</th>\n",
       "      <td>ESPN</td>\n",
       "      <td>203</td>\n",
       "      <td>105654218</td>\n",
       "      <td>937723</td>\n",
       "    </tr>\n",
       "    <tr>\n",
       "      <th>1</th>\n",
       "      <td>The Tonight Show Starring Jimmy Fallon</td>\n",
       "      <td>197</td>\n",
       "      <td>271426383</td>\n",
       "      <td>5981334</td>\n",
       "    </tr>\n",
       "    <tr>\n",
       "      <th>2</th>\n",
       "      <td>Netflix</td>\n",
       "      <td>193</td>\n",
       "      <td>185818315</td>\n",
       "      <td>4211072</td>\n",
       "    </tr>\n",
       "    <tr>\n",
       "      <th>3</th>\n",
       "      <td>Vox</td>\n",
       "      <td>193</td>\n",
       "      <td>122633963</td>\n",
       "      <td>3272518</td>\n",
       "    </tr>\n",
       "    <tr>\n",
       "      <th>4</th>\n",
       "      <td>TheEllenShow</td>\n",
       "      <td>193</td>\n",
       "      <td>253841999</td>\n",
       "      <td>6035132</td>\n",
       "    </tr>\n",
       "  </tbody>\n",
       "</table>\n",
       "</div>"
      ],
      "text/plain": [
       "                            channel_title  count      views    likes\n",
       "0                                    ESPN    203  105654218   937723\n",
       "1  The Tonight Show Starring Jimmy Fallon    197  271426383  5981334\n",
       "2                                 Netflix    193  185818315  4211072\n",
       "3                                     Vox    193  122633963  3272518\n",
       "4                            TheEllenShow    193  253841999  6035132"
      ]
     },
     "execution_count": 11,
     "metadata": {},
     "output_type": "execute_result"
    }
   ],
   "source": [
    "merged = pd.merge(merged,rlCH, on='channel_title')\n",
    "merged.head()"
   ]
  },
  {
   "cell_type": "code",
   "execution_count": 12,
   "metadata": {},
   "outputs": [
    {
     "data": {
      "text/html": [
       "<div>\n",
       "<style scoped>\n",
       "    .dataframe tbody tr th:only-of-type {\n",
       "        vertical-align: middle;\n",
       "    }\n",
       "\n",
       "    .dataframe tbody tr th {\n",
       "        vertical-align: top;\n",
       "    }\n",
       "\n",
       "    .dataframe thead th {\n",
       "        text-align: right;\n",
       "    }\n",
       "</style>\n",
       "<table border=\"1\" class=\"dataframe\">\n",
       "  <thead>\n",
       "    <tr style=\"text-align: right;\">\n",
       "      <th></th>\n",
       "      <th>dislikes</th>\n",
       "    </tr>\n",
       "    <tr>\n",
       "      <th>channel_title</th>\n",
       "      <th></th>\n",
       "    </tr>\n",
       "  </thead>\n",
       "  <tbody>\n",
       "    <tr>\n",
       "      <th>Logan Paul Vlogs</th>\n",
       "      <td>13847251</td>\n",
       "    </tr>\n",
       "    <tr>\n",
       "      <th>YouTube Spotlight</th>\n",
       "      <td>10924092</td>\n",
       "    </tr>\n",
       "    <tr>\n",
       "      <th>ChildishGambinoVEVO</th>\n",
       "      <td>6054434</td>\n",
       "    </tr>\n",
       "    <tr>\n",
       "      <th>Call of Duty</th>\n",
       "      <td>5644083</td>\n",
       "    </tr>\n",
       "    <tr>\n",
       "      <th>ibighit</th>\n",
       "      <td>3467306</td>\n",
       "    </tr>\n",
       "    <tr>\n",
       "      <th>...</th>\n",
       "      <td>...</td>\n",
       "    </tr>\n",
       "    <tr>\n",
       "      <th>Audience Network</th>\n",
       "      <td>0</td>\n",
       "    </tr>\n",
       "    <tr>\n",
       "      <th>negermano</th>\n",
       "      <td>0</td>\n",
       "    </tr>\n",
       "    <tr>\n",
       "      <th>Tentmaker Pictures</th>\n",
       "      <td>0</td>\n",
       "    </tr>\n",
       "    <tr>\n",
       "      <th>WhatsApp Wacky</th>\n",
       "      <td>0</td>\n",
       "    </tr>\n",
       "    <tr>\n",
       "      <th>Saskatchewan Rush</th>\n",
       "      <td>0</td>\n",
       "    </tr>\n",
       "  </tbody>\n",
       "</table>\n",
       "<p>2207 rows × 1 columns</p>\n",
       "</div>"
      ],
      "text/plain": [
       "                     dislikes\n",
       "channel_title                \n",
       "Logan Paul Vlogs     13847251\n",
       "YouTube Spotlight    10924092\n",
       "ChildishGambinoVEVO   6054434\n",
       "Call of Duty          5644083\n",
       "ibighit               3467306\n",
       "...                       ...\n",
       "Audience Network            0\n",
       "negermano                   0\n",
       "Tentmaker Pictures          0\n",
       "WhatsApp Wacky              0\n",
       "Saskatchewan Rush           0\n",
       "\n",
       "[2207 rows x 1 columns]"
      ]
     },
     "execution_count": 12,
     "metadata": {},
     "output_type": "execute_result"
    }
   ],
   "source": [
    "dislCH = pd.DataFrame({\n",
    "    \"channel_title\": ytDF.channel_title, \n",
    "    \"dislikes\": ytDF.dislikes})\n",
    "rdCH = pd.pivot_table(dislCH, index='channel_title',aggfunc=sum)\n",
    "rdCH = pd.DataFrame(rdCH)\n",
    "rdCH.sort_values(by=['dislikes'], ascending=False)"
   ]
  },
  {
   "cell_type": "code",
   "execution_count": 13,
   "metadata": {},
   "outputs": [
    {
     "data": {
      "text/html": [
       "<div>\n",
       "<style scoped>\n",
       "    .dataframe tbody tr th:only-of-type {\n",
       "        vertical-align: middle;\n",
       "    }\n",
       "\n",
       "    .dataframe tbody tr th {\n",
       "        vertical-align: top;\n",
       "    }\n",
       "\n",
       "    .dataframe thead th {\n",
       "        text-align: right;\n",
       "    }\n",
       "</style>\n",
       "<table border=\"1\" class=\"dataframe\">\n",
       "  <thead>\n",
       "    <tr style=\"text-align: right;\">\n",
       "      <th></th>\n",
       "      <th>channel_title</th>\n",
       "      <th>count</th>\n",
       "      <th>views</th>\n",
       "      <th>likes</th>\n",
       "      <th>dislikes</th>\n",
       "    </tr>\n",
       "  </thead>\n",
       "  <tbody>\n",
       "    <tr>\n",
       "      <th>0</th>\n",
       "      <td>ESPN</td>\n",
       "      <td>203</td>\n",
       "      <td>105654218</td>\n",
       "      <td>937723</td>\n",
       "      <td>108043</td>\n",
       "    </tr>\n",
       "    <tr>\n",
       "      <th>1</th>\n",
       "      <td>The Tonight Show Starring Jimmy Fallon</td>\n",
       "      <td>197</td>\n",
       "      <td>271426383</td>\n",
       "      <td>5981334</td>\n",
       "      <td>187407</td>\n",
       "    </tr>\n",
       "    <tr>\n",
       "      <th>2</th>\n",
       "      <td>Netflix</td>\n",
       "      <td>193</td>\n",
       "      <td>185818315</td>\n",
       "      <td>4211072</td>\n",
       "      <td>196212</td>\n",
       "    </tr>\n",
       "    <tr>\n",
       "      <th>3</th>\n",
       "      <td>Vox</td>\n",
       "      <td>193</td>\n",
       "      <td>122633963</td>\n",
       "      <td>3272518</td>\n",
       "      <td>615977</td>\n",
       "    </tr>\n",
       "    <tr>\n",
       "      <th>4</th>\n",
       "      <td>TheEllenShow</td>\n",
       "      <td>193</td>\n",
       "      <td>253841999</td>\n",
       "      <td>6035132</td>\n",
       "      <td>193602</td>\n",
       "    </tr>\n",
       "  </tbody>\n",
       "</table>\n",
       "</div>"
      ],
      "text/plain": [
       "                            channel_title  count      views    likes  dislikes\n",
       "0                                    ESPN    203  105654218   937723    108043\n",
       "1  The Tonight Show Starring Jimmy Fallon    197  271426383  5981334    187407\n",
       "2                                 Netflix    193  185818315  4211072    196212\n",
       "3                                     Vox    193  122633963  3272518    615977\n",
       "4                            TheEllenShow    193  253841999  6035132    193602"
      ]
     },
     "execution_count": 13,
     "metadata": {},
     "output_type": "execute_result"
    }
   ],
   "source": [
    "merged = pd.merge(merged,rdCH, on='channel_title')\n",
    "merged.head()"
   ]
  },
  {
   "cell_type": "code",
   "execution_count": 14,
   "metadata": {},
   "outputs": [
    {
     "data": {
      "text/html": [
       "<div>\n",
       "<style scoped>\n",
       "    .dataframe tbody tr th:only-of-type {\n",
       "        vertical-align: middle;\n",
       "    }\n",
       "\n",
       "    .dataframe tbody tr th {\n",
       "        vertical-align: top;\n",
       "    }\n",
       "\n",
       "    .dataframe thead th {\n",
       "        text-align: right;\n",
       "    }\n",
       "</style>\n",
       "<table border=\"1\" class=\"dataframe\">\n",
       "  <thead>\n",
       "    <tr style=\"text-align: right;\">\n",
       "      <th></th>\n",
       "      <th>comment_count</th>\n",
       "    </tr>\n",
       "    <tr>\n",
       "      <th>channel_title</th>\n",
       "      <th></th>\n",
       "    </tr>\n",
       "  </thead>\n",
       "  <tbody>\n",
       "    <tr>\n",
       "      <th>ibighit</th>\n",
       "      <td>31817464</td>\n",
       "    </tr>\n",
       "    <tr>\n",
       "      <th>Logan Paul Vlogs</th>\n",
       "      <td>14870370</td>\n",
       "    </tr>\n",
       "    <tr>\n",
       "      <th>ChildishGambinoVEVO</th>\n",
       "      <td>10151289</td>\n",
       "    </tr>\n",
       "    <tr>\n",
       "      <th>jypentertainment</th>\n",
       "      <td>7575510</td>\n",
       "    </tr>\n",
       "    <tr>\n",
       "      <th>YouTube Spotlight</th>\n",
       "      <td>6495154</td>\n",
       "    </tr>\n",
       "    <tr>\n",
       "      <th>...</th>\n",
       "      <td>...</td>\n",
       "    </tr>\n",
       "    <tr>\n",
       "      <th>Steve Kovach</th>\n",
       "      <td>0</td>\n",
       "    </tr>\n",
       "    <tr>\n",
       "      <th>Sprint</th>\n",
       "      <td>0</td>\n",
       "    </tr>\n",
       "    <tr>\n",
       "      <th>Southwest Florida Eagle Cam</th>\n",
       "      <td>0</td>\n",
       "    </tr>\n",
       "    <tr>\n",
       "      <th>Snapchat</th>\n",
       "      <td>0</td>\n",
       "    </tr>\n",
       "    <tr>\n",
       "      <th>12 News</th>\n",
       "      <td>0</td>\n",
       "    </tr>\n",
       "  </tbody>\n",
       "</table>\n",
       "<p>2207 rows × 1 columns</p>\n",
       "</div>"
      ],
      "text/plain": [
       "                             comment_count\n",
       "channel_title                             \n",
       "ibighit                           31817464\n",
       "Logan Paul Vlogs                  14870370\n",
       "ChildishGambinoVEVO               10151289\n",
       "jypentertainment                   7575510\n",
       "YouTube Spotlight                  6495154\n",
       "...                                    ...\n",
       "Steve Kovach                             0\n",
       "Sprint                                   0\n",
       "Southwest Florida Eagle Cam              0\n",
       "Snapchat                                 0\n",
       "12 News                                  0\n",
       "\n",
       "[2207 rows x 1 columns]"
      ]
     },
     "execution_count": 14,
     "metadata": {},
     "output_type": "execute_result"
    }
   ],
   "source": [
    "comCH = pd.DataFrame({\n",
    "    \"channel_title\": ytDF.channel_title, \n",
    "    \"comment_count\": ytDF.comment_count})\n",
    "rcCH = pd.pivot_table(comCH, index='channel_title',aggfunc=sum)\n",
    "rcCH = pd.DataFrame(rcCH)\n",
    "rcCH.sort_values(by=['comment_count'], ascending=False)"
   ]
  },
  {
   "cell_type": "code",
   "execution_count": 15,
   "metadata": {},
   "outputs": [
    {
     "data": {
      "text/html": [
       "<div>\n",
       "<style scoped>\n",
       "    .dataframe tbody tr th:only-of-type {\n",
       "        vertical-align: middle;\n",
       "    }\n",
       "\n",
       "    .dataframe tbody tr th {\n",
       "        vertical-align: top;\n",
       "    }\n",
       "\n",
       "    .dataframe thead th {\n",
       "        text-align: right;\n",
       "    }\n",
       "</style>\n",
       "<table border=\"1\" class=\"dataframe\">\n",
       "  <thead>\n",
       "    <tr style=\"text-align: right;\">\n",
       "      <th></th>\n",
       "      <th>channel_title</th>\n",
       "      <th>count</th>\n",
       "      <th>views</th>\n",
       "      <th>likes</th>\n",
       "      <th>dislikes</th>\n",
       "      <th>comment_count</th>\n",
       "    </tr>\n",
       "  </thead>\n",
       "  <tbody>\n",
       "    <tr>\n",
       "      <th>0</th>\n",
       "      <td>ESPN</td>\n",
       "      <td>203</td>\n",
       "      <td>105654218</td>\n",
       "      <td>937723</td>\n",
       "      <td>108043</td>\n",
       "      <td>387753</td>\n",
       "    </tr>\n",
       "    <tr>\n",
       "      <th>1</th>\n",
       "      <td>The Tonight Show Starring Jimmy Fallon</td>\n",
       "      <td>197</td>\n",
       "      <td>271426383</td>\n",
       "      <td>5981334</td>\n",
       "      <td>187407</td>\n",
       "      <td>403655</td>\n",
       "    </tr>\n",
       "    <tr>\n",
       "      <th>2</th>\n",
       "      <td>Netflix</td>\n",
       "      <td>193</td>\n",
       "      <td>185818315</td>\n",
       "      <td>4211072</td>\n",
       "      <td>196212</td>\n",
       "      <td>391350</td>\n",
       "    </tr>\n",
       "    <tr>\n",
       "      <th>3</th>\n",
       "      <td>Vox</td>\n",
       "      <td>193</td>\n",
       "      <td>122633963</td>\n",
       "      <td>3272518</td>\n",
       "      <td>615977</td>\n",
       "      <td>558845</td>\n",
       "    </tr>\n",
       "    <tr>\n",
       "      <th>4</th>\n",
       "      <td>TheEllenShow</td>\n",
       "      <td>193</td>\n",
       "      <td>253841999</td>\n",
       "      <td>6035132</td>\n",
       "      <td>193602</td>\n",
       "      <td>344469</td>\n",
       "    </tr>\n",
       "  </tbody>\n",
       "</table>\n",
       "</div>"
      ],
      "text/plain": [
       "                            channel_title  count      views    likes  \\\n",
       "0                                    ESPN    203  105654218   937723   \n",
       "1  The Tonight Show Starring Jimmy Fallon    197  271426383  5981334   \n",
       "2                                 Netflix    193  185818315  4211072   \n",
       "3                                     Vox    193  122633963  3272518   \n",
       "4                            TheEllenShow    193  253841999  6035132   \n",
       "\n",
       "   dislikes  comment_count  \n",
       "0    108043         387753  \n",
       "1    187407         403655  \n",
       "2    196212         391350  \n",
       "3    615977         558845  \n",
       "4    193602         344469  "
      ]
     },
     "execution_count": 15,
     "metadata": {},
     "output_type": "execute_result"
    }
   ],
   "source": [
    "merged = pd.merge(merged,rcCH, on='channel_title')\n",
    "merged.head()"
   ]
  },
  {
   "cell_type": "code",
   "execution_count": 16,
   "metadata": {},
   "outputs": [
    {
     "data": {
      "text/plain": [
       "<matplotlib.axes._subplots.AxesSubplot at 0x24665e55278>"
      ]
     },
     "execution_count": 16,
     "metadata": {},
     "output_type": "execute_result"
    },
    {
     "data": {
      "image/png": "[encoded data removed]",
      "text/plain": [
       "<Figure size 432x288 with 1 Axes>"
      ]
     },
     "metadata": {
      "needs_background": "light"
     },
     "output_type": "display_data"
    }
   ],
   "source": [
    "merged.plot.scatter(x='count',\n",
    "                    y='views',\n",
    "                    c='Red')"
   ]
  },
  {
   "cell_type": "code",
   "execution_count": 17,
   "metadata": {},
   "outputs": [
    {
     "data": {
      "text/plain": [
       "<matplotlib.axes._subplots.AxesSubplot at 0x24666066a90>"
      ]
     },
     "execution_count": 17,
     "metadata": {},
     "output_type": "execute_result"
    },
    {
     "data": {
      "image/png": "[encoded data removed]",
      "text/plain": [
       "<Figure size 432x288 with 1 Axes>"
      ]
     },
     "metadata": {
      "needs_background": "light"
     },
     "output_type": "display_data"
    }
   ],
   "source": [
    "merged.plot.scatter(x='count',\n",
    "                    y='likes',\n",
    "                    c='Orange')"
   ]
  },
  {
   "cell_type": "code",
   "execution_count": 18,
   "metadata": {},
   "outputs": [
    {
     "data": {
      "text/plain": [
       "<matplotlib.axes._subplots.AxesSubplot at 0x24665e15eb8>"
      ]
     },
     "execution_count": 18,
     "metadata": {},
     "output_type": "execute_result"
    },
    {
     "data": {
      "image/png": "[encoded data removed]",
      "text/plain": [
       "<Figure size 432x288 with 1 Axes>"
      ]
     },
     "metadata": {
      "needs_background": "light"
     },
     "output_type": "display_data"
    }
   ],
   "source": [
    "merged.plot.scatter(x='count',\n",
    "                    y='dislikes',\n",
    "                    c='LightGreen')"
   ]
  },
  {
   "cell_type": "code",
   "execution_count": 19,
   "metadata": {},
   "outputs": [
    {
     "data": {
      "text/plain": [
       "<matplotlib.axes._subplots.AxesSubplot at 0x24665ea4a90>"
      ]
     },
     "execution_count": 19,
     "metadata": {},
     "output_type": "execute_result"
    },
    {
     "data": {
      "image/png": "[encoded data removed]",
      "text/plain": [
       "<Figure size 432x288 with 1 Axes>"
      ]
     },
     "metadata": {
      "needs_background": "light"
     },
     "output_type": "display_data"
    }
   ],
   "source": [
    "merged.plot.scatter(x='count',\n",
    "                    y='comment_count',\n",
    "                    c='LightBlue')"
   ]
  },
  {
   "cell_type": "code",
   "execution_count": 20,
   "metadata": {},
   "outputs": [
    {
     "data": {
      "text/html": [
       "<div>\n",
       "<style scoped>\n",
       "    .dataframe tbody tr th:only-of-type {\n",
       "        vertical-align: middle;\n",
       "    }\n",
       "\n",
       "    .dataframe tbody tr th {\n",
       "        vertical-align: top;\n",
       "    }\n",
       "\n",
       "    .dataframe thead th {\n",
       "        text-align: right;\n",
       "    }\n",
       "</style>\n",
       "<table border=\"1\" class=\"dataframe\">\n",
       "  <thead>\n",
       "    <tr style=\"text-align: right;\">\n",
       "      <th></th>\n",
       "      <th>count</th>\n",
       "      <th>views</th>\n",
       "      <th>likes</th>\n",
       "      <th>dislikes</th>\n",
       "      <th>comment_count</th>\n",
       "    </tr>\n",
       "  </thead>\n",
       "  <tbody>\n",
       "    <tr>\n",
       "      <th>count</th>\n",
       "      <td>1.000000</td>\n",
       "      <td>0.377495</td>\n",
       "      <td>0.313246</td>\n",
       "      <td>0.169553</td>\n",
       "      <td>0.257884</td>\n",
       "    </tr>\n",
       "    <tr>\n",
       "      <th>views</th>\n",
       "      <td>0.377495</td>\n",
       "      <td>1.000000</td>\n",
       "      <td>0.841846</td>\n",
       "      <td>0.536699</td>\n",
       "      <td>0.668097</td>\n",
       "    </tr>\n",
       "    <tr>\n",
       "      <th>likes</th>\n",
       "      <td>0.313246</td>\n",
       "      <td>0.841846</td>\n",
       "      <td>1.000000</td>\n",
       "      <td>0.499068</td>\n",
       "      <td>0.903020</td>\n",
       "    </tr>\n",
       "    <tr>\n",
       "      <th>dislikes</th>\n",
       "      <td>0.169553</td>\n",
       "      <td>0.536699</td>\n",
       "      <td>0.499068</td>\n",
       "      <td>1.000000</td>\n",
       "      <td>0.650210</td>\n",
       "    </tr>\n",
       "    <tr>\n",
       "      <th>comment_count</th>\n",
       "      <td>0.257884</td>\n",
       "      <td>0.668097</td>\n",
       "      <td>0.903020</td>\n",
       "      <td>0.650210</td>\n",
       "      <td>1.000000</td>\n",
       "    </tr>\n",
       "  </tbody>\n",
       "</table>\n",
       "</div>"
      ],
      "text/plain": [
       "                  count     views     likes  dislikes  comment_count\n",
       "count          1.000000  0.377495  0.313246  0.169553       0.257884\n",
       "views          0.377495  1.000000  0.841846  0.536699       0.668097\n",
       "likes          0.313246  0.841846  1.000000  0.499068       0.903020\n",
       "dislikes       0.169553  0.536699  0.499068  1.000000       0.650210\n",
       "comment_count  0.257884  0.668097  0.903020  0.650210       1.000000"
      ]
     },
     "execution_count": 20,
     "metadata": {},
     "output_type": "execute_result"
    }
   ],
   "source": [
    "merged.corr(method ='pearson')"
   ]
  },
  {
   "cell_type": "markdown",
   "metadata": {},
   "source": [
    "# Finally we start the neural network"
   ]
  },
  {
   "cell_type": "code",
   "execution_count": 21,
   "metadata": {},
   "outputs": [
    {
     "data": {
      "text/html": [
       "<div>\n",
       "<style scoped>\n",
       "    .dataframe tbody tr th:only-of-type {\n",
       "        vertical-align: middle;\n",
       "    }\n",
       "\n",
       "    .dataframe tbody tr th {\n",
       "        vertical-align: top;\n",
       "    }\n",
       "\n",
       "    .dataframe thead th {\n",
       "        text-align: right;\n",
       "    }\n",
       "</style>\n",
       "<table border=\"1\" class=\"dataframe\">\n",
       "  <thead>\n",
       "    <tr style=\"text-align: right;\">\n",
       "      <th></th>\n",
       "      <th>views</th>\n",
       "      <th>likes</th>\n",
       "      <th>dislikes</th>\n",
       "      <th>comment_count</th>\n",
       "      <th>Outcome</th>\n",
       "    </tr>\n",
       "  </thead>\n",
       "  <tbody>\n",
       "    <tr>\n",
       "      <th>0</th>\n",
       "      <td>24028</td>\n",
       "      <td>42110</td>\n",
       "      <td>95731</td>\n",
       "      <td>2535</td>\n",
       "      <td>0</td>\n",
       "    </tr>\n",
       "    <tr>\n",
       "      <th>1</th>\n",
       "      <td>47981</td>\n",
       "      <td>87158</td>\n",
       "      <td>47500</td>\n",
       "      <td>58546</td>\n",
       "      <td>1</td>\n",
       "    </tr>\n",
       "    <tr>\n",
       "      <th>2</th>\n",
       "      <td>5402</td>\n",
       "      <td>92159</td>\n",
       "      <td>27193</td>\n",
       "      <td>95630</td>\n",
       "      <td>1</td>\n",
       "    </tr>\n",
       "    <tr>\n",
       "      <th>3</th>\n",
       "      <td>4690</td>\n",
       "      <td>35439</td>\n",
       "      <td>44554</td>\n",
       "      <td>64769</td>\n",
       "      <td>0</td>\n",
       "    </tr>\n",
       "    <tr>\n",
       "      <th>4</th>\n",
       "      <td>25191</td>\n",
       "      <td>96346</td>\n",
       "      <td>21463</td>\n",
       "      <td>15847</td>\n",
       "      <td>0</td>\n",
       "    </tr>\n",
       "  </tbody>\n",
       "</table>\n",
       "</div>"
      ],
      "text/plain": [
       "   views  likes  dislikes  comment_count  Outcome\n",
       "0  24028  42110     95731           2535        0\n",
       "1  47981  87158     47500          58546        1\n",
       "2   5402  92159     27193          95630        1\n",
       "3   4690  35439     44554          64769        0\n",
       "4  25191  96346     21463          15847        0"
      ]
     },
     "execution_count": 21,
     "metadata": {},
     "output_type": "execute_result"
    }
   ],
   "source": [
    "itr = pd.read_csv('is-it-trending.csv')\n",
    "itr.head()"
   ]
  },
  {
   "cell_type": "markdown",
   "metadata": {},
   "source": [
    "#### - Create matrix of features and matrix of target variable"
   ]
  },
  {
   "cell_type": "code",
   "execution_count": 22,
   "metadata": {},
   "outputs": [],
   "source": [
    "X= pd.DataFrame({\n",
    "    \"views\": itr.views, \n",
    "    \"likes\": itr.likes,\n",
    "    \"dislikes\": itr.dislikes,\n",
    "    \"comment_count\": itr.comment_count})\n",
    "\n",
    "y=  pd.DataFrame({\n",
    "    \"Outcome\": itr.Outcome})\n"
   ]
  },
  {
   "cell_type": "markdown",
   "metadata": {},
   "source": [
    "#### - Create the training set and the test set"
   ]
  },
  {
   "cell_type": "code",
   "execution_count": 23,
   "metadata": {},
   "outputs": [],
   "source": [
    "from sklearn.model_selection import train_test_split\n",
    "\n",
    "X_train, X_test, y_train, y_test = train_test_split(X, y, test_size = 0.2)"
   ]
  },
  {
   "cell_type": "code",
   "execution_count": 24,
   "metadata": {},
   "outputs": [],
   "source": [
    "X_train = np.asarray(X_train)\n",
    "X_test = np.asarray(X_test)\n",
    "y_train = np.asarray(y_train)\n",
    "y_test = np.asarray(y_test)"
   ]
  },
  {
   "cell_type": "markdown",
   "metadata": {},
   "source": [
    "#### - scale the data and standardize"
   ]
  },
  {
   "cell_type": "code",
   "execution_count": 25,
   "metadata": {},
   "outputs": [],
   "source": [
    "from sklearn.preprocessing import StandardScaler\n",
    "sc = StandardScaler()\n",
    "X_train = sc.fit_transform(X_train)\n",
    "X_test = sc.transform(X_test)"
   ]
  },
  {
   "cell_type": "markdown",
   "metadata": {},
   "source": [
    "### Import required Modules"
   ]
  },
  {
   "cell_type": "code",
   "execution_count": 26,
   "metadata": {},
   "outputs": [],
   "source": [
    "import keras\n",
    "from tensorflow.keras.models import Sequential\n",
    "from tensorflow.keras.layers import Dense"
   ]
  },
  {
   "cell_type": "code",
   "execution_count": 27,
   "metadata": {},
   "outputs": [],
   "source": [
    "classifier = Sequential()"
   ]
  },
  {
   "cell_type": "markdown",
   "metadata": {},
   "source": [
    "### Add layers to network"
   ]
  },
  {
   "cell_type": "code",
   "execution_count": 28,
   "metadata": {},
   "outputs": [],
   "source": [
    "classifier.add(Dense(6, activation = 'relu', input_dim = 4))\n",
    "\n",
    "classifier.add(Dense(6, activation = 'relu'))\n",
    "\n",
    "classifier.add(Dense(1, activation = 'sigmoid'))"
   ]
  },
  {
   "cell_type": "code",
   "execution_count": 29,
   "metadata": {},
   "outputs": [],
   "source": [
    "classifier.compile(optimizer = 'adam', loss = 'binary_crossentropy', metrics = ['accuracy'])"
   ]
  },
  {
   "cell_type": "markdown",
   "metadata": {},
   "source": [
    "# Train"
   ]
  },
  {
   "cell_type": "code",
   "execution_count": 30,
   "metadata": {},
   "outputs": [
    {
     "name": "stdout",
     "output_type": "stream",
     "text": [
      "Train on 199 samples\n",
      "Epoch 1/100\n",
      "199/199 [==============================] - 1s 3ms/sample - loss: 0.7715 - accuracy: 0.4824\n",
      "Epoch 2/100\n",
      "199/199 [==============================] - 0s 150us/sample - loss: 0.7415 - accuracy: 0.5126\n",
      "Epoch 3/100\n",
      "199/199 [==============================] - 0s 167us/sample - loss: 0.7177 - accuracy: 0.5528\n",
      "Epoch 4/100\n",
      "199/199 [==============================] - 0s 165us/sample - loss: 0.6994 - accuracy: 0.5930\n",
      "Epoch 5/100\n",
      "199/199 [==============================] - 0s 175us/sample - loss: 0.6816 - accuracy: 0.6231\n",
      "Epoch 6/100\n",
      "199/199 [==============================] - 0s 170us/sample - loss: 0.6675 - accuracy: 0.6382\n",
      "Epoch 7/100\n",
      "199/199 [==============================] - 0s 175us/sample - loss: 0.6546 - accuracy: 0.6482\n",
      "Epoch 8/100\n",
      "199/199 [==============================] - 0s 160us/sample - loss: 0.6430 - accuracy: 0.6633\n",
      "Epoch 9/100\n",
      "199/199 [==============================] - 0s 165us/sample - loss: 0.6321 - accuracy: 0.6683\n",
      "Epoch 10/100\n",
      "199/199 [==============================] - 0s 170us/sample - loss: 0.6221 - accuracy: 0.6784\n",
      "Epoch 11/100\n",
      "199/199 [==============================] - 0s 190us/sample - loss: 0.6116 - accuracy: 0.6784\n",
      "Epoch 12/100\n",
      "199/199 [==============================] - 0s 180us/sample - loss: 0.6015 - accuracy: 0.6784\n",
      "Epoch 13/100\n",
      "199/199 [==============================] - 0s 195us/sample - loss: 0.5910 - accuracy: 0.6784\n",
      "Epoch 14/100\n",
      "199/199 [==============================] - 0s 182us/sample - loss: 0.5802 - accuracy: 0.6784\n",
      "Epoch 15/100\n",
      "199/199 [==============================] - 0s 190us/sample - loss: 0.5696 - accuracy: 0.6784\n",
      "Epoch 16/100\n",
      "199/199 [==============================] - 0s 195us/sample - loss: 0.5578 - accuracy: 0.6784\n",
      "Epoch 17/100\n",
      "199/199 [==============================] - 0s 195us/sample - loss: 0.5454 - accuracy: 0.6784\n",
      "Epoch 18/100\n",
      "199/199 [==============================] - 0s 165us/sample - loss: 0.5327 - accuracy: 0.6784\n",
      "Epoch 19/100\n",
      "199/199 [==============================] - 0s 155us/sample - loss: 0.5191 - accuracy: 0.6784\n",
      "Epoch 20/100\n",
      "199/199 [==============================] - 0s 165us/sample - loss: 0.5051 - accuracy: 0.6784\n",
      "Epoch 21/100\n",
      "199/199 [==============================] - 0s 160us/sample - loss: 0.4894 - accuracy: 0.6884\n",
      "Epoch 22/100\n",
      "199/199 [==============================] - 0s 175us/sample - loss: 0.4733 - accuracy: 0.6935\n",
      "Epoch 23/100\n",
      "199/199 [==============================] - 0s 165us/sample - loss: 0.4564 - accuracy: 0.7638\n",
      "Epoch 24/100\n",
      "199/199 [==============================] - 0s 167us/sample - loss: 0.4393 - accuracy: 0.7990\n",
      "Epoch 25/100\n",
      "199/199 [==============================] - 0s 156us/sample - loss: 0.4211 - accuracy: 0.8593\n",
      "Epoch 26/100\n",
      "199/199 [==============================] - 0s 160us/sample - loss: 0.4029 - accuracy: 0.9045\n",
      "Epoch 27/100\n",
      "199/199 [==============================] - 0s 205us/sample - loss: 0.3851 - accuracy: 0.9045\n",
      "Epoch 28/100\n",
      "199/199 [==============================] - 0s 180us/sample - loss: 0.3669 - accuracy: 0.9296\n",
      "Epoch 29/100\n",
      "199/199 [==============================] - 0s 200us/sample - loss: 0.3489 - accuracy: 0.9347\n",
      "Epoch 30/100\n",
      "199/199 [==============================] - 0s 170us/sample - loss: 0.3313 - accuracy: 0.9497\n",
      "Epoch 31/100\n",
      "199/199 [==============================] - 0s 170us/sample - loss: 0.3129 - accuracy: 0.9548\n",
      "Epoch 32/100\n",
      "199/199 [==============================] - 0s 165us/sample - loss: 0.2949 - accuracy: 0.9548\n",
      "Epoch 33/100\n",
      "199/199 [==============================] - 0s 175us/sample - loss: 0.2777 - accuracy: 0.9648\n",
      "Epoch 34/100\n",
      "199/199 [==============================] - 0s 150us/sample - loss: 0.2606 - accuracy: 0.9698\n",
      "Epoch 35/100\n",
      "199/199 [==============================] - 0s 187us/sample - loss: 0.2443 - accuracy: 0.9698\n",
      "Epoch 36/100\n",
      "199/199 [==============================] - 0s 206us/sample - loss: 0.2283 - accuracy: 0.9799\n",
      "Epoch 37/100\n",
      "199/199 [==============================] - 0s 210us/sample - loss: 0.2128 - accuracy: 0.9799\n",
      "Epoch 38/100\n",
      "199/199 [==============================] - 0s 180us/sample - loss: 0.1986 - accuracy: 0.9799\n",
      "Epoch 39/100\n",
      "199/199 [==============================] - 0s 175us/sample - loss: 0.1853 - accuracy: 0.9799\n",
      "Epoch 40/100\n",
      "199/199 [==============================] - 0s 196us/sample - loss: 0.1725 - accuracy: 0.9799\n",
      "Epoch 41/100\n",
      "199/199 [==============================] - 0s 190us/sample - loss: 0.1620 - accuracy: 0.9799\n",
      "Epoch 42/100\n",
      "199/199 [==============================] - 0s 196us/sample - loss: 0.1505 - accuracy: 0.9799\n",
      "Epoch 43/100\n",
      "199/199 [==============================] - 0s 160us/sample - loss: 0.1410 - accuracy: 0.9799\n",
      "Epoch 44/100\n",
      "199/199 [==============================] - 0s 155us/sample - loss: 0.1318 - accuracy: 0.9799\n",
      "Epoch 45/100\n",
      "199/199 [==============================] - 0s 150us/sample - loss: 0.1235 - accuracy: 0.9799\n",
      "Epoch 46/100\n",
      "199/199 [==============================] - 0s 165us/sample - loss: 0.1164 - accuracy: 0.9799\n",
      "Epoch 47/100\n",
      "199/199 [==============================] - 0s 165us/sample - loss: 0.1098 - accuracy: 0.9799\n",
      "Epoch 48/100\n",
      "199/199 [==============================] - 0s 155us/sample - loss: 0.1030 - accuracy: 0.9849\n",
      "Epoch 49/100\n",
      "199/199 [==============================] - 0s 165us/sample - loss: 0.0975 - accuracy: 0.9849\n",
      "Epoch 50/100\n",
      "199/199 [==============================] - 0s 165us/sample - loss: 0.0928 - accuracy: 0.9849\n",
      "Epoch 51/100\n",
      "199/199 [==============================] - 0s 160us/sample - loss: 0.0880 - accuracy: 0.9849\n",
      "Epoch 52/100\n",
      "199/199 [==============================] - 0s 175us/sample - loss: 0.0836 - accuracy: 0.9849\n",
      "Epoch 53/100\n",
      "199/199 [==============================] - 0s 150us/sample - loss: 0.0797 - accuracy: 0.9849\n",
      "Epoch 54/100\n",
      "199/199 [==============================] - 0s 170us/sample - loss: 0.0764 - accuracy: 0.9849\n",
      "Epoch 55/100\n",
      "199/199 [==============================] - 0s 160us/sample - loss: 0.0727 - accuracy: 0.9849\n",
      "Epoch 56/100\n",
      "199/199 [==============================] - 0s 155us/sample - loss: 0.0696 - accuracy: 0.9849\n",
      "Epoch 57/100\n",
      "199/199 [==============================] - 0s 170us/sample - loss: 0.0668 - accuracy: 0.9849\n",
      "Epoch 58/100\n",
      "199/199 [==============================] - 0s 165us/sample - loss: 0.0643 - accuracy: 0.9849\n",
      "Epoch 59/100\n",
      "199/199 [==============================] - 0s 161us/sample - loss: 0.0618 - accuracy: 0.9849\n",
      "Epoch 60/100\n",
      "199/199 [==============================] - 0s 165us/sample - loss: 0.0599 - accuracy: 0.9849\n",
      "Epoch 61/100\n",
      "199/199 [==============================] - 0s 166us/sample - loss: 0.0580 - accuracy: 0.9849\n",
      "Epoch 62/100\n",
      "199/199 [==============================] - 0s 170us/sample - loss: 0.0557 - accuracy: 0.9849\n",
      "Epoch 63/100\n",
      "199/199 [==============================] - 0s 180us/sample - loss: 0.0537 - accuracy: 0.9849\n",
      "Epoch 64/100\n",
      "199/199 [==============================] - 0s 205us/sample - loss: 0.0522 - accuracy: 0.9849\n",
      "Epoch 65/100\n",
      "199/199 [==============================] - 0s 236us/sample - loss: 0.0505 - accuracy: 0.9849\n",
      "Epoch 66/100\n",
      "199/199 [==============================] - 0s 215us/sample - loss: 0.0491 - accuracy: 0.9849\n",
      "Epoch 67/100\n",
      "199/199 [==============================] - 0s 170us/sample - loss: 0.0479 - accuracy: 0.9899\n",
      "Epoch 68/100\n",
      "199/199 [==============================] - 0s 165us/sample - loss: 0.0463 - accuracy: 0.9899\n",
      "Epoch 69/100\n",
      "199/199 [==============================] - 0s 175us/sample - loss: 0.0451 - accuracy: 0.9950\n",
      "Epoch 70/100\n",
      "199/199 [==============================] - 0s 155us/sample - loss: 0.0440 - accuracy: 0.9899\n",
      "Epoch 71/100\n",
      "199/199 [==============================] - 0s 165us/sample - loss: 0.0427 - accuracy: 0.9950\n",
      "Epoch 72/100\n",
      "199/199 [==============================] - 0s 150us/sample - loss: 0.0417 - accuracy: 0.9950\n",
      "Epoch 73/100\n",
      "199/199 [==============================] - 0s 145us/sample - loss: 0.0405 - accuracy: 0.9950\n",
      "Epoch 74/100\n",
      "199/199 [==============================] - 0s 160us/sample - loss: 0.0396 - accuracy: 0.9950\n",
      "Epoch 75/100\n",
      "199/199 [==============================] - 0s 175us/sample - loss: 0.0384 - accuracy: 0.9950\n",
      "Epoch 76/100\n",
      "199/199 [==============================] - 0s 150us/sample - loss: 0.0377 - accuracy: 0.9950\n",
      "Epoch 77/100\n",
      "199/199 [==============================] - 0s 170us/sample - loss: 0.0366 - accuracy: 0.9950\n",
      "Epoch 78/100\n",
      "199/199 [==============================] - 0s 175us/sample - loss: 0.0357 - accuracy: 0.9950\n",
      "Epoch 79/100\n",
      "199/199 [==============================] - 0s 170us/sample - loss: 0.0349 - accuracy: 0.9950\n",
      "Epoch 80/100\n",
      "199/199 [==============================] - 0s 190us/sample - loss: 0.0341 - accuracy: 1.0000\n",
      "Epoch 81/100\n",
      "199/199 [==============================] - 0s 195us/sample - loss: 0.0337 - accuracy: 1.0000\n",
      "Epoch 82/100\n",
      "199/199 [==============================] - 0s 161us/sample - loss: 0.0325 - accuracy: 1.0000\n",
      "Epoch 83/100\n",
      "199/199 [==============================] - 0s 165us/sample - loss: 0.0319 - accuracy: 1.0000\n",
      "Epoch 84/100\n",
      "199/199 [==============================] - 0s 160us/sample - loss: 0.0311 - accuracy: 1.0000\n",
      "Epoch 85/100\n",
      "199/199 [==============================] - 0s 150us/sample - loss: 0.0305 - accuracy: 1.0000\n",
      "Epoch 86/100\n",
      "199/199 [==============================] - 0s 160us/sample - loss: 0.0299 - accuracy: 1.0000\n",
      "Epoch 87/100\n",
      "199/199 [==============================] - 0s 150us/sample - loss: 0.0292 - accuracy: 1.0000\n",
      "Epoch 88/100\n",
      "199/199 [==============================] - 0s 145us/sample - loss: 0.0286 - accuracy: 1.0000\n",
      "Epoch 89/100\n",
      "199/199 [==============================] - 0s 145us/sample - loss: 0.0281 - accuracy: 1.0000\n",
      "Epoch 90/100\n",
      "199/199 [==============================] - 0s 150us/sample - loss: 0.0278 - accuracy: 1.0000\n",
      "Epoch 91/100\n",
      "199/199 [==============================] - 0s 139us/sample - loss: 0.0269 - accuracy: 1.0000\n",
      "Epoch 92/100\n",
      "199/199 [==============================] - 0s 150us/sample - loss: 0.0264 - accuracy: 1.0000\n",
      "Epoch 93/100\n",
      "199/199 [==============================] - 0s 145us/sample - loss: 0.0258 - accuracy: 1.0000\n",
      "Epoch 94/100\n",
      "199/199 [==============================] - 0s 135us/sample - loss: 0.0255 - accuracy: 1.0000\n",
      "Epoch 95/100\n",
      "199/199 [==============================] - 0s 155us/sample - loss: 0.0248 - accuracy: 1.0000\n",
      "Epoch 96/100\n",
      "199/199 [==============================] - 0s 158us/sample - loss: 0.0241 - accuracy: 1.0000\n",
      "Epoch 97/100\n",
      "199/199 [==============================] - 0s 155us/sample - loss: 0.0237 - accuracy: 1.0000\n",
      "Epoch 98/100\n",
      "199/199 [==============================] - 0s 152us/sample - loss: 0.0231 - accuracy: 1.0000\n",
      "Epoch 99/100\n",
      "199/199 [==============================] - 0s 150us/sample - loss: 0.0226 - accuracy: 1.0000\n",
      "Epoch 100/100\n",
      "199/199 [==============================] - 0s 150us/sample - loss: 0.0221 - accuracy: 1.0000\n"
     ]
    },
    {
     "data": {
      "text/plain": [
       "<tensorflow.python.keras.callbacks.History at 0x2466cbb7160>"
      ]
     },
     "execution_count": 30,
     "metadata": {},
     "output_type": "execute_result"
    }
   ],
   "source": [
    "classifier.fit(X_train, y_train, batch_size=10, epochs=100)"
   ]
  },
  {
   "cell_type": "code",
   "execution_count": 31,
   "metadata": {},
   "outputs": [
    {
     "name": "stdout",
     "output_type": "stream",
     "text": [
      "50/1 [============================================================================================================================================================================================================================================================================================================================================================================================================================================================================================================================================================================================================================================================================================================================================================================================================================================================================================================================================================================================================================================================================================================================================================================================================================================================================================================================================================================================================================================================================================================================================================] - 0s 2ms/sample - loss: 0.0223 - accuracy: 1.0000\n",
      "0.024720000326633452 1.0\n"
     ]
    }
   ],
   "source": [
    "val_loss, val_acc = classifier.evaluate(X_test, y_test)\n",
    "print(val_loss, val_acc)"
   ]
  },
  {
   "cell_type": "code",
   "execution_count": null,
   "metadata": {},
   "outputs": [],
   "source": []
  }
 ],
 "metadata": {
  "kernelspec": {
   "display_name": "Python 3",
   "language": "python",
   "name": "python3"
  },
  "language_info": {
   "codemirror_mode": {
    "name": "ipython",
    "version": 3
   },
   "file_extension": ".py",
   "mimetype": "text/x-python",
   "name": "python",
   "nbconvert_exporter": "python",
   "pygments_lexer": "ipython3",
   "version": "3.7.3"
  }
 },
 "nbformat": 4,
 "nbformat_minor": 2
}
